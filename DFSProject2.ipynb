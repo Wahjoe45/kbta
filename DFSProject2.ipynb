{
 "cells": [
  {
   "cell_type": "code",
   "execution_count": 6,
   "id": "62665897",
   "metadata": {},
   "outputs": [
    {
     "name": "stdout",
     "output_type": "stream",
     "text": [
      "Asal : Brebes\n",
      "Destinasi : Wonosobo\n",
      "['Brebes', 'Tegal', 'Slawi', 'Purwokerto', 'Purbalingga', 'Banjarnegara', 'Wonosobo']\n"
     ]
    }
   ],
   "source": [
    "peta = {'Brebes':set(['Tegal','Slawi']),\n",
    "        'Tegal':set(['Pemalang','Slawi']),\n",
    "        'Slawi':set(['Tegal','Purwokerto']),\n",
    "        'Purwokerto':set(['Purbalingga','Cilacap','Kroya','Kebumen']),\n",
    "        'Cilacap':set(['Purwokerto','Kroya']),\n",
    "        'Kroya':set(['Cilacap','Purwokerto','Kebumen']),\n",
    "        'Kebumen':set(['Kroya','Purwokerto']),\n",
    "        'Purworejo':set(['Kebumen','Magelang']),\n",
    "        'Magelang':set(['Purworejo','Wonosobo','Temanggung','Boyolali']),\n",
    "        'Pekalongan':set(['Pemalang','Kendal']),\n",
    "        'Purbalingga':set(['Pemalang','Purwokerto','Banjarnegara']),\n",
    "        'Pemalang':set(['Tegal','Purbalingga','Pekalongan']),\n",
    "        'Banjarnegara':set(['Purbalingga','Wonosobo']),\n",
    "        'Wonosobo':set(['Banjarnegara','Temanggung','Magelang'])\n",
    "        }\n",
    "\n",
    "\n",
    "def dfs(graph, mulai, goal):\n",
    "    \n",
    "    explored = []\n",
    "    \n",
    "    stack = [[mulai]]\n",
    "\n",
    "    \n",
    "    if mulai == goal:\n",
    "        return \"Awal adalah Tujuan\"\n",
    "\n",
    "    \n",
    "    while stack:\n",
    "        \n",
    "        jalur = stack.pop(-1)\n",
    "        \n",
    "        node = jalur[-1]\n",
    "        \n",
    "        if node not in explored:\n",
    "            neighbours = graph[node] \n",
    "            \n",
    "           \n",
    "            for neighbour in neighbours: \n",
    "                jalur_baru = list(jalur) \n",
    "                jalur_baru.append(neighbour) \n",
    "                stack.append(jalur_baru) \n",
    "                \n",
    "                if neighbour == goal:\n",
    "                    return jalur_baru \n",
    "\n",
    "            explored.append(node) \n",
    "\n",
    "    \n",
    "    return \"Mohon maaf rute yang kalian pilih tidak ada\"\n",
    "\n",
    "\n",
    "awal = input(\"Asal : \")\n",
    "tujuan = input(\"Destinasi : \")\n",
    "\n",
    "print(dfs(peta, awal, tujuan))\n"
   ]
  }
 ],
 "metadata": {
  "kernelspec": {
   "display_name": "Python 3",
   "language": "python",
   "name": "python3"
  },
  "language_info": {
   "codemirror_mode": {
    "name": "ipython",
    "version": 3
   },
   "file_extension": ".py",
   "mimetype": "text/x-python",
   "name": "python",
   "nbconvert_exporter": "python",
   "pygments_lexer": "ipython3",
   "version": "3.8.8"
  }
 },
 "nbformat": 4,
 "nbformat_minor": 5
}
